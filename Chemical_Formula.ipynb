{
  "nbformat": 4,
  "nbformat_minor": 0,
  "metadata": {
    "colab": {
      "provenance": [],
      "authorship_tag": "ABX9TyNjTfbCoIDwUi+iN75BYmZC",
      "include_colab_link": true
    },
    "kernelspec": {
      "name": "python3",
      "display_name": "Python 3"
    },
    "language_info": {
      "name": "python"
    }
  },
  "cells": [
    {
      "cell_type": "markdown",
      "metadata": {
        "id": "view-in-github",
        "colab_type": "text"
      },
      "source": [
        "<a href=\"https://colab.research.google.com/github/BiochemIbitz/100-Days-of-Python/blob/main/Chemical_Formula.ipynb\" target=\"_parent\"><img src=\"https://colab.research.google.com/assets/colab-badge.svg\" alt=\"Open In Colab\"/></a>"
      ]
    },
    {
      "source": [
        "!pip install pubchempy\n",
        "\n",
        "import pubchempy as pcp"
      ],
      "cell_type": "code",
      "metadata": {
        "colab": {
          "base_uri": "https://localhost:8080/"
        },
        "id": "cTOJRMKW6PD7",
        "outputId": "df526495-5d52-4074-a03c-7e80411f9d3a"
      },
      "execution_count": 4,
      "outputs": [
        {
          "output_type": "stream",
          "name": "stdout",
          "text": [
            "Collecting pubchempy\n",
            "  Downloading PubChemPy-1.0.4.tar.gz (29 kB)\n",
            "  Preparing metadata (setup.py) ... \u001b[?25l\u001b[?25hdone\n",
            "Building wheels for collected packages: pubchempy\n",
            "  Building wheel for pubchempy (setup.py) ... \u001b[?25l\u001b[?25hdone\n",
            "  Created wheel for pubchempy: filename=PubChemPy-1.0.4-py3-none-any.whl size=13819 sha256=a6a21d8b418dd7738de70ac63ac059f840b0a87772006a4c1e3bcfde093f47e7\n",
            "  Stored in directory: /root/.cache/pip/wheels/90/7c/45/18a0671e3c3316966ef7ed9ad2b3f3300a7e41d3421a44e799\n",
            "Successfully built pubchempy\n",
            "Installing collected packages: pubchempy\n",
            "Successfully installed pubchempy-1.0.4\n",
            "Enter chemical namephenol\n",
            "IUPAC Nmae: phenol\n",
            "Common Name: phenol\n",
            "Molecular Weight: 94.11\n",
            "Synonyms: ['phenol', '108-95-2', 'carbolic acid', 'Hydroxybenzene', 'Phenic acid', 'Oxybenzene', 'Benzenol', 'Phenylic acid', 'Phenylic alcohol', 'Monophenol', 'Phenyl hydrate', 'Phenyl hydroxide', 'PhOH', 'Monohydroxybenzene', 'Paoscle', 'Phenole', 'Izal', 'Phenyl alcohol', 'Phenol alcohol', 'Acide carbolique', 'Phenol, liquefied', 'Fenolo', 'Carbolsaure', 'Phenosmolin', 'Fenol', 'Liquid phenol', 'Phenol, pure', 'Benzene, hydroxy-', 'Rcra waste number U188', 'Liquefied phenol', 'Liquified Phenol', 'Carbolicum acidum', 'Fenolo [Italian]', 'NCI-C50124', 'Phenole [German]', 'Campho-Phenique Gel', 'phenylalcohol', 'UN 2312 (molten)', 'Phenol [JAN]', 'UN 1671 (solid)', 'Phenic', 'Carbolsaure [German]', 'Caswell No. 649', 'Campho-Phenique Liquid', 'Phenol, molten', '2-allphenol', \"Baker's P & S liquid & Ointment\", 'Fenol [Dutch, Polish]', 'NSC 36808', 'Phenol, liquified', \"Baker's P and S Liquid and Ointment\", 'Monohydroxy benzene', 'Acide carbolique [French]', 'CCRIS 504', 'MFCD00002143', 'Campho-Phenique Cold Sore Gel', 'Carbolsaeure', 'FEMA No. 3223', 'Karbolsaeure', 'HSDB 113', 'Phenoxy', 'acide phenique', 'DTXSID5021124', 'Phenic alcohol', 'Phenol,liquified', 'Synthetic phenol', 'Phenol, dimer', 'AI3-01814', 'RCRA waste no. U188', 'EINECS 203-632-7', 'UNII-339NCG44TV', 'NSC-36808', 'UN1671', 'UN2312', 'UN2821', 'EPA Pesticide Chemical Code 064001', '339NCG44TV', 'CHEBI:15882', 'Phenol [USP:JAN]', 'ENT-1814', '27073-41-2', 'CHEMBL14060', 'DTXCID501124', 'EC 203-632-7', 'NSC36808', 'Phenol, Glass Distilled Under Argon', '65996-83-0', 'Phenol, solid [UN1671]  [Poison]', 'Phenol (USP:JAN)', 'Phenol, molten [UN2312]  [Poison]', 'NCGC00091454-04', 'Fenosmoline', 'Fenosmolin', 'PHENOL (IARC)', 'PHENOL [IARC]', 'PHENOL (USP-RS)', 'PHENOL [USP-RS]', 'PHENOL (II)', 'PHENOL [II]', 'PHENOL (MART.)', 'PHENOL [MART.]', 'Phenol, >=99.0%', '17442-59-0', 'PHENOL (EP MONOGRAPH)', 'PHENOL [EP MONOGRAPH]', 'PHENOL (USP MONOGRAPH)', 'PHENOL [USP MONOGRAPH]', 'Carbol', 'hydroxy benzene', 'Phenol 100 microg/mL in Methanol', 'Phenol, liquid', 'Phenol, solid', 'Benzenol; Hydroxybenzene; NSC 36808', \"Baker's p and s\", 'Phenol, sulfurated', 'CAS-108-95-2', 'METACRESOL IMPURITY A (EP IMPURITY)', 'METACRESOL IMPURITY A [EP IMPURITY]', '(14C)Phenol', 'HEXYLRESORCINOL IMPURITY A (EP IMPURITY)', 'HEXYLRESORCINOL IMPURITY A [EP IMPURITY]', 'PHENOL (2,3,4,5,6-D5)', 'arenols', 'Benzophenol', 'Karbolsaure', 'Phylorinol', 'Ulcerease', 'Hydroxy-benzene', 'Phenol liquid', 'Phenol molten', 'Fungus Fighte', 'Phenol synthetic', \"Pandy's reagent\", 'Cepastat lozenges', 'Fortinia ID', 'Phenol, labeled with carbon-14', 'Acidum Carbolicum', 'Phenol (liquid)', '2-phenyl alcohol', 'Sore ThroatCherry', 'Phenol, synthetic', 'Phenol, ultrapure', 'ABC Sore Throat', 'HEB Sore Throat', 'Phenol ACS grade', 'RugbyCherry Flavor', 'Sore ThroatMenthol', 'Sore Throat Spray', 'Meijer Sore Throat', 'Sore Throat Cherry', 'Sore Throat Relief', 'Liquefied phenol BP', 'Paoscle (TN)', 'Topcare Sore Throat', 'Carbolic acid liquid', 'Phenol (TN)', 'Phenol,(S)', 'TopCareCherry Flavor', 'Phenol, ACS reagent', 'PUBLIX Sore Throat', 'Carbolic acid, liquid', 'CepastatExtra Strength', 'Walgreens Sore Throat', '63496-48-0', 'Sore ThroatReadyInCase', 'Vortex Moisturizer Oral', '1ai7', '1li2', '4i7l', 'Liquefied phenol (TN)', 'DRx Choice Sore Throat', 'PHENOL [VANDF]', 'Wild Horse 777 Oral', 'PHENOL [FHFI]', 'PHENOL [HSDB]', 'Sore Throat ReliefCherry', 'Castellani Paint 1.5%', 'Phenol (JP18/USP)', 'PHENOL [WHO-DD]', 'Phenol, detached crystals', 'Pain RelievingPetro Carbo', 'PHENOL [MI]', 'Phenol, >=99%', 'Sore Throat ReliefMenthol', 'WLN: QR', 'Good Neighbor Sore Throat', 'Liquefied phenol (JP18)', 'bmse000290', 'bmse010026', 'C6H5OH', 'Fenol(DUTCH, POLISH)', 'NICE SORE THROAT Cherry', 'PHENOL, 80% in ethanol', 'Phenol, LR, >=99%', 'HEB Sore ThroatCherry Flavor', 'MLS001065591', 'Phenol (CGA 73330)', 'Phenol, for molecular biology', 'BIDD:ER0293', 'Phenol for disinfection (TN)', 'ABC Sore ThroatMenthol Flavor', 'HEB Sore ThroatMenthol Flavor', 'NICE SORE THROAT Spearmint', 'Phenol, natural, 97%, FG', 'CHLORASEPTIC SORE THROAT', 'Chloraseptic Sore Throat Cherry', 'Chloraseptic Sore Throat Citrus', 'Cuticura pain relieving ointment', 'Sore Throat ReliefCherry Flavor', 'CARBOLICUM ACIDUM [HPUS]', 'DTXSID9075294', 'Phenol, AR, >=99.5%', 'PHENOL,LIQUIFIED [VANDF]', 'BDBM26187', 'CHEBI:33853', 'Phenol for disinfection (JP18)', 'Topcare Sore ThroatMenthol Flavor', '3f39', 'Phenol 10 microg/mL in Methanol', 'PUBLIX Sore ThroatMenthol Flavor', 'Walgreens Sore ThroatCherry Flavor', 'phenol 0.6% anesthetic oral rinse', 'Tox21_113463', 'Tox21_201639', 'Tox21_300042', 'DRx Choice Sore ThroatMenthol Flavor', 'Phenol 5000 microg/mL in Methanol', 'STL194294', 'AKOS000119025', 'Eos Medicated Pain Relieving Lip Balm', 'Tox21_113463_1', 'DB03255', 'Good Neighbor Sore ThroatCherry Flavor', 'NA 2821', 'Phenol, BioXtra, >=99.5% (GC)', 'Phenol, SAJ first grade, >=98.0%', 'UN 1671', 'UN 2312', 'UN 2821', 'USEPA/OPP Pesticide Code: 064001', 'NCGC00091454-01', 'NCGC00091454-02', 'NCGC00091454-03', 'NCGC00091454-05', 'NCGC00091454-06', 'NCGC00091454-07', 'NCGC00254019-01', 'NCGC00259188-01', 'Phenol, JIS special grade, >=99.0%', '61788-41-8', '73607-76-8', 'BP-30160', 'METHYL SALICYLATE IMPURITY B [EP]', 'SMR000568492', 'Phenol 1000 microg/mL in Dichloromethane', 'Phenol, PESTANAL(R), analytical standard', 'Liquified Phenol (contains 7-10 % water)', 'NS00010045', 'P1610', 'P2771', 'EN300-19432', 'C00146', 'D00033', 'Phenol, unstabilized, ReagentPlus(R), >=99%', 'SALICYLIC ACID IMPURITY C [EP IMPURITY]', 'SBI-0653931.0001', 'Phenol, p.a., ACS reagent, 99.5-100.5%', 'PUBLIX Sore Throat Fast Relief Oral Anesthetic', 'Q130336', 'CVS Health Sore Throat Fast Relief Oral Anesthetic', 'J-610001', 'Phenol, for molecular biology, ~90% (T), liquid', 'A13-01814', 'BRD-K76549667-001-04-6', 'F1908-0106', 'Phenol, unstabilized, purified by redistillation, >=99%', 'Z104473830', 'InChI=1/C6H6O/c7-6-4-2-1-3-5-6/h1-5,7', 'Phenol, BioUltra, for molecular biology, >=99.5% (GC)', 'Phenol, United States Pharmacopeia (USP) Reference Standard', 'Liquified Phenol, meets USP testing specifications, >=89.0%', 'Phenol, BioUltra, for molecular biology, TE-saturated, ~73% (T)', 'phenol;phenol [jan];phenol, pure;phenol phenol [jan] phenol, pure', 'Phenol, puriss. p.a., ACS reagent, reag. Ph. Eur., 99.0-100.5%', 'Phenol, contains hypophosphorous as stabilizer, loose crystals, ACS reagent, >=99.0%', 'Phenol, puriss., meets analytical specification of Ph. Eur., BP, USP, 99.5-100.5% (GC)', 'Phenol, puriss., meets analytical specification of Ph. Eur., BP, USP, >=99.5% (GC), crystalline (detached)']\n"
          ]
        }
      ]
    },
    {
      "cell_type": "code",
      "source": [
        "chemical_name = input(\"Enter chemical name: \")\n",
        "try:\n",
        "  compound = pcp.get_compounds (chemical_name, 'name')[0]\n",
        "\n",
        "  print (f\"IUPAC Nmae: {compound.iupac_name}\")\n",
        "  print (f\"Common Name: {compound.synonyms[0]}\")\n",
        "  print (f\"Molecular Weight: {compound.molecular_weight}\")\n",
        "  print (f\"Synonyms: {compound.synonyms}\")\n",
        "  print (f\"formular: {compound.molecular_formula}\")\n",
        "\n",
        "except IndexError:\n",
        "  print (f\"No Information Found for {chemical_name}.\")"
      ],
      "metadata": {
        "colab": {
          "base_uri": "https://localhost:8080/"
        },
        "id": "KnPyBTCE5N-g",
        "outputId": "2b5c3399-519c-4d74-f846-7151b5952aa4"
      },
      "execution_count": 6,
      "outputs": [
        {
          "output_type": "stream",
          "name": "stdout",
          "text": [
            "Enter chemical name: methane\n",
            "IUPAC Nmae: methane\n",
            "Common Name: 02329_FLUKA\n",
            "Molecular Weight: 16.043\n",
            "Synonyms: ['02329_FLUKA', '0CB689EE-132E-4559-A597-C79A40192203', '14493-06-2', '150036-83-2', '295477_ALDRICH', '3B4-2254', '463035_ALDRICH', '490210_ALDRICH', '74-82-8', '8006-14-2', 'AC1L18XA', 'AC1Q2825', 'AG-E-08601', 'AKOS005166816', 'AR-1A0383', 'AR-1A0497', 'Biodiesels', 'Biogas', 'BRN 1718732', 'C01438', 'C5M', 'CH4', 'CHEBI:16183', 'CHEMBL17564', 'CTK2H7747', 'Fire Damp', 'HSDB 167', 'KST-1A1445', 'KST-1A1563', 'Marsh gas', 'metano', 'methan', 'methane', 'Methane in gaseus state', 'Methane-12C', 'Methyl hydride', 'MolPort-018-618-244', 'Natural gas', 'OP0UW79H66', 'R 50', 'R 50 (refrigerant)', 'tetrahydridocarbon', 'UN1971', 'UN1972', 'UNII-OP0UW79H66', 'EINECS 200-812-7', 'DTXSID8025545', 'EC 200-812-7', '4-01-00-00003 (Beilstein Handbook Reference)', 'MFCD00133992', 'MFCD00144065', 'METHANE (EP MONOGRAPH)', 'METHANE [EP MONOGRAPH]', 'MFCD00146977', 'MFCD00211867', 'MFCD31654066', 'Methylidyne radical', 'a methyl group', 'GO quantum dots', 'Gas, natural', 'N-doped Grpahene', 'high purity SWNTs', 'N-doped MWCNTs', '74C', 'MWCNTs water paste', 'Flash-ignited MWNTs', 'Electrode pole pieces', 'Liquified natural gas', 'Synthetic natural gas', 'Methane [WHO-DD]', 'rGO-NH-Carboimidazole', 'MWNTs water suspension', 'GO quantum dots powder', 'Nitrogen doped CMK-3', 'MWNTs DMSO suspension', 'PEG@GO', 'PEI@GO', 'MWCNTs water suspension', 'METHANE [HSDB]', 'GO quantum dots(Powder)', 'METHANE [MI]', 'MWCNTs(long) 4-6nm', 'MWNTs(short) 4-6 nm', 'NanoIntegris Dielectic ink', 'GrapheitizedMWNT 8-15nm', 'MWCNTs(long) 5-15nm', 'GO quantum dots (solvent)', 'Grapheitized MWNTs >50nm', 'Methane, >=99.0%', 'Customized MWNTs dispersion', 'GO quantum dots(20mg/ml)', 'Methane, analytical standard', 'MWNTs(short) 5-15 nm', 'MWNTs(short) 8-15 nm', '4QQN74LH4O', 'CH2H2', 'CMK-3', 'CMK-8', 'MWCNTs(long) 20-30nm', 'MWCNTs(long) 8-15 nm', 'UNII-6GRV67N0U2', 'MWNTs(short) 20-30 nm', 'MWNTs(short) 30-50 nm', 'Nanointegris ultrapure SWCNTs', 'UN 1971 (Salt/Mix)', 'UN 1972 (Salt/Mix)', 'Graphitized MWNTs 10-20nm', 'Low Purity Carboxylic SWCNTs', 'GO quantum dots(C: 1mg/ml)', 'Grapheitized MWNTs 20-30nm', 'Grapheitized MWNTs 30-50nm', 'Low purity Hydroxylate SWCNTs', 'MWNTs ethyl acetate suspension', 'MWNTs Butyl acetate suspension', '4XYU5U00C4', '6GRV67N0U2', 'Carboxyl MWCNTs(long) <8 nm', 'Carboxyl MWCNTs(long) 4-6nm', 'DTXCID705545', 'GO quantum dots yellow(Powder)', 'Industrial grade MWNTs 50 nm', 'MWNTs (long) 10-20 nm', 'Carboxyl MWCNTs(short) 4-6nm', 'CHEMBL2106049', 'Conductive Flexible TPU Filament', 'GO quantum dots yellow(1mg/ml)', 'High Purified Carboxylic SWCNTS', 'Ultrapure SWCNTs NMP dispersion', 'DTXSID50179391', 'High Purified Hydroxylate SWCNTS', 'Lowpurity hydroxy SWCNTs (long)', 'NanoIntegris metallic SWCNTs70%', 'NanoIntegris metallic SWCNTs90%', 'NanoIntegris metallic SWCNTs95%', 'Lowpurity carboxyl SWCNTs (long)', 'Industrial grade MWNTs 10-20nm', 'Industrial grade MWNTs 20-30nm', 'Industrial grade MWNTs 50-60nm', 'Industrial grade MWNTs 8-15 nm', 'Industrial grade MWNTs 9-16 nm', 'MWNTs isopropyl alcohol suspension', 'Carboxyl MWCNTs(short) 5-15 nm', 'Carboxyl MWCNTs(short) 8-15 nm', 'Industrial grade MWCNTs 8-15 nm', 'NanoIntegris metallic SWCNTs 98%', 'NanoIntegris metallic SWCNTs 99%', 'High purity SWNTs 0.7-2.5 nm', 'Highpurity carboxyl SWCNTs (short)', 'Industrial grade MWNTs 13-17 nm', 'Industrial Grade MWNTs 20-40 nm', 'Largeinner diameter thin-wall MWNTs', 'Ultrapure SWCNTs aqueous dispersion', 'EINECS 232-343-9', 'EINECS 240-383-3', 'High purity carboxyl SWCNTs (long)', 'Grapheitized Carboxyl MWNTs >50 nm', 'Grapheitized Carboxyl MWNTs 8-15nm', 'GrapheitizedCarboxyl MWNTs 10-20nm', 'GrapheitizedCarboxyl MWNTs 20-30nm', 'GrapheitizedCarboxyl MWNTs 30-50nm', 'MFCD06411993', 'MFCD07370731', 'NA1361', 'NanoIntegris SWCNTs with high purity', 'Hydroxylate MWNTs(short) 30-50 nm', 'Grapheitized Hydroxylate MWNT 8-15nm', 'GrapheitizedHydroxylate MWNTs >50 nm', 'Industrial Carboxylic SWCNTs 1-2 nm', 'DB09278', 'GrapheitizedHydroxylate MWNTs 10-20nm', 'GrapheitizedHydroxylate MWNTs 30-50nm', 'HIPCO pure Metallic Hipco SWNTs solid', 'Industrial Hydroxylate SWCNTs 1-2 nm', 'N-doped MWCNTs (N Content2.98wt%)', 'NanoIntegris metallic SWCNTs70% solid', 'NanoIntegris metallic SWCNTs90% solid', 'NanoIntegris metallic SWCNTs95% solid', 'HIPCO Semiconducting Hipco SWNTs solid', 'N-doped MWCNTS (N Content3.00wt%)', 'NanoIntegris semiconductive SWCNTs 90%', 'NanoIntegris semiconductive SWCNTs 95%', 'NanoIntegris semiconductive SWCNTs 98%', 'NanoIntegris semiconductive SWCNTs 99%', 'Carboxyl MWCNTs water paste (~10wt%)', 'Grapheitized Hydroxylate MWNTs 20-30nm', 'High Purified Large Surface Area SWCNTS', 'NanoIntegris metallic SWCNTs 98% solid', 'NanoIntegris metallic SWCNTs 99% solid', '4H-Pyrrolo[1,2-d][1,4]oxazocine-9-carboxaldehyde,1,2,5,6-tetrahydro-6-hydroxy-4,5-dimethyl-2-oxo-, (4R,5R,6S)-rel-', 'Carboxyl MWCNTs water paste (~2.7wt%)', 'DA-51585', 'High-Ni Calibration series, O 38x15 mm', 'HIPCO pure Metallic Hipco SWNTs Aqueous', 'HIPCO Semiconducting Hipco SWNTs Aqueous', 'Methane, electronic grade, >=99.998%', 'PD053877', 'Short ultrapure SWCNTs aqueous dispersion', 'Ultrapure Short SWCNTs aqueous dispersion', 'Industrial grade carboxylation MWNTs 50nm', 'Methane, Messer(R) CANGas, 99.999%', 'NanoIntegris semiconductive SWCNTs 99.9%', 'Single Layer H-BN Film on SIO2 substrate', 'NS00004509', 'NS00081852', 'NS00093167', 'Carboxylic ultrapure SWCNTs aqueous dispersion', 'NanoIntegris semiconductive SWCNTs 90% solid', 'NanoIntegris semiconductive SWCNTs 95% solid', 'EC 231-953-2', 'EC 231-955-3', 'EC 240-383-3', 'High concentration MWCNTs water paste(~14wt%)', 'High purity Carboxyl SWCNTs aqueous dispersion', 'Industrial grade carboxylation MWNTs 20-40 nm', 'Industrial grade hydroxylation MWCNTs 10-30nm', 'Industrial grade hydroxylation MWCNTs 20-40nm', 'Q37129', 'NanoIntegris semiconductive SWCNTs 99.9% solid', 'Methane-12C, 13C-depleted, 99.9 atom % 12C', 'Q866179', 'IsoSol-S100 Pure SemiconductingSWNT+Dielectric ink', 'Q-200950', 'Q3333711', 'Q6823951', 'Q11172462', 'High concentration carboxyl MWCNTs water paste(~13wt%)', 'Nanointegris SWCNTs with small diameter Fe Catalyst 35%', 'Nanointegris SWCNTs with small diameter Fe Catalyst 5%', 'Nanointegris SWCNTs with small diameter Fe Catalyst15%', 'Methane, compressed or natural gas, compressed (with high methane content)', 'Charcoal briquettes, shell, screenings, wood, etc. [NA1361]  [Spontaneously combustible]', 'MeH', 'Methane, compressed or natural gas, compressed (with high methane content) [UN1971]  [Flammable gas]', 'Methane, refrigerated liquid (cryogenic liquid) or natural gas, refrigerated liquid (cryogenic liquid) (with high methane content)', 'Methane, refrigerated liquid (cryogenic liquid) or natural gas, refrigerated liquid (cryogenic liquid) (with high methane content) [UN1972]  [Flammable gas]']\n",
            "formular: CH4\n"
          ]
        }
      ]
    },
    {
      "cell_type": "code",
      "source": [],
      "metadata": {
        "id": "_wM7GjVm7D0l"
      },
      "execution_count": 6,
      "outputs": []
    }
  ]
}