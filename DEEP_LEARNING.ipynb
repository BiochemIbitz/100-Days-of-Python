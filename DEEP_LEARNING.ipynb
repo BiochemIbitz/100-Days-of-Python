{
  "nbformat": 4,
  "nbformat_minor": 0,
  "metadata": {
    "colab": {
      "provenance": [],
      "authorship_tag": "ABX9TyPH3QpT+a7Ak5DoKfDV0pnS",
      "include_colab_link": true
    },
    "kernelspec": {
      "name": "python3",
      "display_name": "Python 3"
    },
    "language_info": {
      "name": "python"
    }
  },
  "cells": [
    {
      "cell_type": "markdown",
      "metadata": {
        "id": "view-in-github",
        "colab_type": "text"
      },
      "source": [
        "<a href=\"https://colab.research.google.com/github/BiochemIbitz/100-Days-of-Python/blob/main/DEEP_LEARNING.ipynb\" target=\"_parent\"><img src=\"https://colab.research.google.com/assets/colab-badge.svg\" alt=\"Open In Colab\"/></a>"
      ]
    },
    {
      "cell_type": "markdown",
      "source": [
        "# Deep Learning\n",
        "\n",
        "### Deep learning is an approach to machine learning characterized by deep stacks of computations.\n"
      ],
      "metadata": {
        "id": "g3HHvtm_jjzD"
      }
    },
    {
      "cell_type": "markdown",
      "source": [
        "#####The input is x. Its connection to the neuron has a weight which is w. Whenever a value flows through a connection, you multiply the value by the connection's weight. For the input x, what reaches the neuron is w * x. A neural network \"learns\" by modifying its weights."
      ],
      "metadata": {
        "id": "5L7c7Onxju-f"
      }
    },
    {
      "cell_type": "markdown",
      "source": [],
      "metadata": {
        "id": "oKocoiAwkCuR"
      }
    },
    {
      "cell_type": "markdown",
      "source": [
        "# A formula  y=wx+b\n",
        "#### A linear unit with three inputs.\n",
        "The formula for this neuron would be  y=w0x0+w1x1+w2x2+b\n",
        " . A linear unit with two inputs will fit a plane, and a unit with more inputs than that will fit a hyperplane\n",
        ""
      ],
      "metadata": {
        "id": "cCo47LNUkCxv"
      }
    },
    {
      "cell_type": "code",
      "source": [
        "from tensorflow import keras\n",
        "from tensorflow.keras import layers\n",
        "\n",
        "# Create a network with 1 linear unit\n",
        "model = keras.Sequential([\n",
        "    layers.Dense(units=1, input_shape=[3])\n",
        "])"
      ],
      "metadata": {
        "id": "fGVkffhelPH8"
      },
      "execution_count": 2,
      "outputs": []
    },
    {
      "cell_type": "code",
      "source": [],
      "metadata": {
        "id": "3CmDWZp5lQvG"
      },
      "execution_count": null,
      "outputs": []
    }
  ]
}