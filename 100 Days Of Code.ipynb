{
 "cells": [
  {
   "cell_type": "code",
   "execution_count": 2,
   "metadata": {},
   "outputs": [
    {
     "name": "stdout",
     "output_type": "stream",
     "text": [
      "What's your name? dave\n",
      "What are you having for lunch? beans\n",
      "dave is going to be chowing down on beans very soon!\n"
     ]
    }
   ],
   "source": [
    "#Day 3 of 100 days of python\n",
    "## Learnt about concatenation, receieving input from users\n",
    "myName = input(\"What's your name? \")\n",
    "myLunch = input(\"What are you having for lunch? \")\n",
    "print(myName, \"is going to be chowing down on\",myLunch, \"very soon!\")"
   ]
  },
  {
   "cell_type": "code",
   "execution_count": 1,
   "metadata": {},
   "outputs": [
    {
     "name": "stdout",
     "output_type": "stream",
     "text": [
      "Give me a number: 20\n",
      "Give me a collective noun for a group of things: army\n",
      "Give me the name of a weird or wacky thing: fish\n",
      "No I don't think that 20 is a army of fish . That's just odd.\n"
     ]
    }
   ],
   "source": [
    "number = input(\"Give me a number: \")\n",
    "group = input(\"Give me a collective noun for a group of things: \")\n",
    "thing = input(\"Give me the name of a weird or wacky thing: \")\n",
    "print(\"No I don't think that\", number, \"is a\", group, \"of\", thing,\". That's just odd.\")"
   ]
  },
  {
   "cell_type": "code",
   "execution_count": 2,
   "metadata": {},
   "outputs": [
    {
     "name": "stdout",
     "output_type": "stream",
     "text": [
      "Name: Theophilus\n",
      "What year is it?: 2013\n",
      "Theophilus thinks it is 2013\n"
     ]
    }
   ],
   "source": [
    "yourName = input(\"Name: \")\n",
    "whatYear = input(\"What year is it?: \")\n",
    "print( yourName, \"thinks it is\", whatYear )"
   ]
  },
  {
   "cell_type": "code",
   "execution_count": 1,
   "metadata": {},
   "outputs": [
    {
     "name": "stdout",
     "output_type": "stream",
     "text": [
      "what is your favourite food: Rice\n",
      "what plant do you prefer: Bitroot\n",
      "what method of cooking do you prefer: Frying\n",
      "what word describe burned food: gross\n",
      "what household item: knife\n",
      "i prefer to have Rice under a Bitroot using a Frying but if the food gets gross but can be gotten rid of using knife\n"
     ]
    }
   ],
   "source": [
    "favourite_food = input (\"what is your favourite food: \")\n",
    "preferred_plant = input (\"what plant do you prefer: \")\n",
    "method_of_cooking = input (\"what method of cooking do you prefer: \")\n",
    "burnt_food = input (\"what word describe burned food: \")\n",
    "household_items = input (\"what household item: \")\n",
    "print(\"i prefer to have\", favourite_food, \"under a\", preferred_plant, \"using a\", method_of_cooking, \"but if the food gets\", burnt_food, \"but can be gotten rid of using\", household_items, )\n"
   ]
  },
  {
   "cell_type": "code",
   "execution_count": 2,
   "metadata": {},
   "outputs": [
    {
     "name": "stdout",
     "output_type": "stream",
     "text": [
      "Welcome to your Adventure Story Simulator.\n",
      "\n",
      "I am going to ask you a bunch of questions and then create an epic story with you as the star.\n",
      "\n",
      "What is your name? Solomon\n",
      "\n",
      "What is your enemy's name? David\n",
      "\n",
      "What is your super power? Slicing\n",
      "\n",
      "Where do you live?Kado\n",
      "\n",
      "What is your favorite food?Rice\n",
      "\n",
      "Hello Solomon Your ability to Slicing will make sure you never have to look at David again.Go eat Rice as you walk down the streets of Kado and use Slicing for good and not evil!\n"
     ]
    }
   ],
   "source": [
    "#DAY 4 OF 100 DAYS OF CODING\n",
    "\n",
    "print(\"Welcome to your Adventure Story Simulator.\")\n",
    "print ()\n",
    "print(\"I am going to ask you a bunch of questions and then create an epic story with you as the star.\")\n",
    "\n",
    "print()\n",
    "name = input(\"What is your name? \")\n",
    "print()\n",
    "enemyName = input(\"What is your enemy's name? \")\n",
    "print()\n",
    "superPower = input(\"What is your super power? \")\n",
    "print()\n",
    "live = input(\"Where do you live?\")\n",
    "print()\n",
    "food = input(\"What is your favorite food?\")\n",
    "\n",
    "print()\n",
    "print(\"Hello\", name, \"Your ability to\", superPower, \"will make sure you never have to look at\", enemyName, \"again.\" \"Go eat\", food, \"as you walk down the streets of\", live, \"and use\", superPower, \"for good and not evil!\")"
   ]
  },
  {
   "cell_type": "code",
   "execution_count": 3,
   "metadata": {},
   "outputs": [
    {
     "name": "stdout",
     "output_type": "stream",
     "text": [
      "What's your name?David\n",
      "welcome Dude!\n",
      "Youre just the baldestr dude i have ever seen\n"
     ]
    }
   ],
   "source": [
    "## DAY 5 OF 100DAYSOFCODING\n",
    "myname= input(\"What's your name?\")\n",
    "if myname == \"David\":\n",
    "  print(\"welcome Dude!\")\n",
    "  print (\"Youre just the baldestr dude i have ever seen\")\n",
    "else:\n",
    "    print(myname, \"who the hell are u!!\")\n",
    "    "
   ]
  },
  {
   "cell_type": "code",
   "execution_count": null,
   "metadata": {},
   "outputs": [],
   "source": []
  }
 ],
 "metadata": {
  "kernelspec": {
   "display_name": "Python 3",
   "language": "python",
   "name": "python3"
  },
  "language_info": {
   "codemirror_mode": {
    "name": "ipython",
    "version": 3
   },
   "file_extension": ".py",
   "mimetype": "text/x-python",
   "name": "python",
   "nbconvert_exporter": "python",
   "pygments_lexer": "ipython3",
   "version": "3.8.5"
  }
 },
 "nbformat": 4,
 "nbformat_minor": 4
}
